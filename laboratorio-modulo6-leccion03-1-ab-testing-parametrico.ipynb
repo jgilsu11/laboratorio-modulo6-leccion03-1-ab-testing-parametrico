{
 "cells": [
  {
   "cell_type": "markdown",
   "metadata": {},
   "source": [
    "\n",
    "<div style=\"text-align: center;\">\n",
    "  <img src=\"https://github.com/Hack-io-Data/Imagenes/blob/main/01-LogosHackio/logo_amarillo@4x.png?raw=true\" alt=\"esquema\" />\n",
    "</div>\n",
    "\n",
    "\n",
    "# Laboratorio A/B Testing Parametrico\n"
   ]
  },
  {
   "cell_type": "code",
   "execution_count": null,
   "metadata": {},
   "outputs": [],
   "source": [
    "import pandas as pd\n",
    "import numpy as np\n",
    "from scipy import stats\n",
    "import seaborn as sns\n",
    "\n",
    "import matplotlib.pyplot as plt\n",
    "\n",
    "from src import funciones as f"
   ]
  },
  {
   "cell_type": "code",
   "execution_count": 9,
   "metadata": {},
   "outputs": [],
   "source": [
    "montaje=pd.read_csv(\"datos/linea_montaje.csv\")\n",
    "fluidos=pd.read_csv(\"datos/densidad_fluidos.csv\")"
   ]
  },
  {
   "cell_type": "markdown",
   "metadata": {},
   "source": [
    "#### Ejercicio 1:  Linea de montaje \n",
    "\n",
    "En una fabrica de componenetes textil se quiere comparar el tiempo de fabricacion de un determinado producto mediante tres métodos diferentes.  Se seleccionan aleatoriamente productos elaborados con cada uno de los métodos y se observa el tiempo de fabricación. \n",
    "\n",
    "\n",
    "1. ¿Se verifican los supuestos del modelo de análisis de la varianza?\n",
    "\n",
    "2. ¿Existe evidencia de que el método influye en el tiempo medio de elaboración del producto?\n",
    "\n",
    "3. La empresa valora que el tiempo de fabricación sea el menor posible. ¿Qué método cree que ofrece mejores resultados?"
   ]
  },
  {
   "cell_type": "code",
   "execution_count": 10,
   "metadata": {},
   "outputs": [
    {
     "data": {
      "text/html": [
       "<div>\n",
       "<style scoped>\n",
       "    .dataframe tbody tr th:only-of-type {\n",
       "        vertical-align: middle;\n",
       "    }\n",
       "\n",
       "    .dataframe tbody tr th {\n",
       "        vertical-align: top;\n",
       "    }\n",
       "\n",
       "    .dataframe thead th {\n",
       "        text-align: right;\n",
       "    }\n",
       "</style>\n",
       "<table border=\"1\" class=\"dataframe\">\n",
       "  <thead>\n",
       "    <tr style=\"text-align: right;\">\n",
       "      <th></th>\n",
       "      <th>minutos</th>\n",
       "      <th>metodo</th>\n",
       "    </tr>\n",
       "  </thead>\n",
       "  <tbody>\n",
       "    <tr>\n",
       "      <th>0</th>\n",
       "      <td>4.166484</td>\n",
       "      <td>A</td>\n",
       "    </tr>\n",
       "    <tr>\n",
       "      <th>1</th>\n",
       "      <td>4.887466</td>\n",
       "      <td>A</td>\n",
       "    </tr>\n",
       "  </tbody>\n",
       "</table>\n",
       "</div>"
      ],
      "text/plain": [
       "    minutos metodo\n",
       "0  4.166484      A\n",
       "1  4.887466      A"
      ]
     },
     "execution_count": 10,
     "metadata": {},
     "output_type": "execute_result"
    }
   ],
   "source": [
    "montaje.head(2)"
   ]
  },
  {
   "cell_type": "markdown",
   "metadata": {},
   "source": [
    "## EDA\n",
    "\n",
    "\n",
    "No hay nulos ni duplicados en ninguno de los conjuntos de datos.   \n",
    "  \n",
    "\n",
    "***Linea de montaje:***  \n",
    "\n",
    "- El método más usado es el método A con una frecuencia de 50 (Aunque realmente es porque ordena alfabeticamente porque si hay 3 métodos y 150 en total dan a 50 cada uno)  \n",
    "  \n",
    "- El tiempo medio de producción de un producto es de casi 5 minutos por producto. Al observar el mínimo observamos tiempo de producción unitario negativo lo que se debe a paradas de producción con lo que los tendrémos que mantener.  \n",
    "  \n",
    "***Densidad de fluidos:***   \n",
    "  \n",
    "\n",
    "- La temperatura media es 137,5 grados con una desviación de casi 28 grados.\n",
    "\n",
    "- La densidad media es de 21,72 con una desviación muy leve  \n",
    "  \n",
    "\n",
    "\n"
   ]
  },
  {
   "cell_type": "code",
   "execution_count": 14,
   "metadata": {},
   "outputs": [
    {
     "data": {
      "text/html": [
       "<div>\n",
       "<style scoped>\n",
       "    .dataframe tbody tr th:only-of-type {\n",
       "        vertical-align: middle;\n",
       "    }\n",
       "\n",
       "    .dataframe tbody tr th {\n",
       "        vertical-align: top;\n",
       "    }\n",
       "\n",
       "    .dataframe thead th {\n",
       "        text-align: right;\n",
       "    }\n",
       "</style>\n",
       "<table border=\"1\" class=\"dataframe\">\n",
       "  <thead>\n",
       "    <tr style=\"text-align: right;\">\n",
       "      <th></th>\n",
       "      <th>count</th>\n",
       "      <th>unique</th>\n",
       "      <th>top</th>\n",
       "      <th>freq</th>\n",
       "    </tr>\n",
       "  </thead>\n",
       "  <tbody>\n",
       "    <tr>\n",
       "      <th>metodo</th>\n",
       "      <td>150</td>\n",
       "      <td>3</td>\n",
       "      <td>A</td>\n",
       "      <td>50</td>\n",
       "    </tr>\n",
       "  </tbody>\n",
       "</table>\n",
       "</div>"
      ],
      "text/plain": [
       "       count unique top freq\n",
       "metodo   150      3   A   50"
      ]
     },
     "execution_count": 14,
     "metadata": {},
     "output_type": "execute_result"
    }
   ],
   "source": [
    "montaje.describe(include=\"O\").T"
   ]
  },
  {
   "cell_type": "code",
   "execution_count": 12,
   "metadata": {},
   "outputs": [
    {
     "data": {
      "text/html": [
       "<div>\n",
       "<style scoped>\n",
       "    .dataframe tbody tr th:only-of-type {\n",
       "        vertical-align: middle;\n",
       "    }\n",
       "\n",
       "    .dataframe tbody tr th {\n",
       "        vertical-align: top;\n",
       "    }\n",
       "\n",
       "    .dataframe thead th {\n",
       "        text-align: right;\n",
       "    }\n",
       "</style>\n",
       "<table border=\"1\" class=\"dataframe\">\n",
       "  <thead>\n",
       "    <tr style=\"text-align: right;\">\n",
       "      <th></th>\n",
       "      <th>count</th>\n",
       "      <th>mean</th>\n",
       "      <th>std</th>\n",
       "      <th>min</th>\n",
       "      <th>25%</th>\n",
       "      <th>50%</th>\n",
       "      <th>75%</th>\n",
       "      <th>max</th>\n",
       "    </tr>\n",
       "  </thead>\n",
       "  <tbody>\n",
       "    <tr>\n",
       "      <th>minutos</th>\n",
       "      <td>150.0</td>\n",
       "      <td>4.895103</td>\n",
       "      <td>2.222707</td>\n",
       "      <td>-0.818899</td>\n",
       "      <td>3.528356</td>\n",
       "      <td>4.870153</td>\n",
       "      <td>6.328776</td>\n",
       "      <td>12.059491</td>\n",
       "    </tr>\n",
       "  </tbody>\n",
       "</table>\n",
       "</div>"
      ],
      "text/plain": [
       "         count      mean       std       min       25%       50%       75%  \\\n",
       "minutos  150.0  4.895103  2.222707 -0.818899  3.528356  4.870153  6.328776   \n",
       "\n",
       "               max  \n",
       "minutos  12.059491  "
      ]
     },
     "execution_count": 12,
     "metadata": {},
     "output_type": "execute_result"
    }
   ],
   "source": [
    "montaje.describe().T"
   ]
  },
  {
   "cell_type": "code",
   "execution_count": 13,
   "metadata": {},
   "outputs": [
    {
     "name": "stdout",
     "output_type": "stream",
     "text": [
      "<class 'pandas.core.frame.DataFrame'>\n",
      "RangeIndex: 150 entries, 0 to 149\n",
      "Data columns (total 2 columns):\n",
      " #   Column   Non-Null Count  Dtype  \n",
      "---  ------   --------------  -----  \n",
      " 0   minutos  150 non-null    float64\n",
      " 1   metodo   150 non-null    object \n",
      "dtypes: float64(1), object(1)\n",
      "memory usage: 2.5+ KB\n"
     ]
    }
   ],
   "source": [
    "montaje.info()"
   ]
  },
  {
   "cell_type": "code",
   "execution_count": 19,
   "metadata": {},
   "outputs": [
    {
     "data": {
      "text/plain": [
       "np.int64(0)"
      ]
     },
     "execution_count": 19,
     "metadata": {},
     "output_type": "execute_result"
    }
   ],
   "source": [
    "montaje.duplicated().sum()"
   ]
  },
  {
   "cell_type": "code",
   "execution_count": 18,
   "metadata": {},
   "outputs": [
    {
     "data": {
      "text/html": [
       "<div>\n",
       "<style scoped>\n",
       "    .dataframe tbody tr th:only-of-type {\n",
       "        vertical-align: middle;\n",
       "    }\n",
       "\n",
       "    .dataframe tbody tr th {\n",
       "        vertical-align: top;\n",
       "    }\n",
       "\n",
       "    .dataframe thead th {\n",
       "        text-align: right;\n",
       "    }\n",
       "</style>\n",
       "<table border=\"1\" class=\"dataframe\">\n",
       "  <thead>\n",
       "    <tr style=\"text-align: right;\">\n",
       "      <th></th>\n",
       "      <th>temperatura</th>\n",
       "      <th>densidad</th>\n",
       "    </tr>\n",
       "  </thead>\n",
       "  <tbody>\n",
       "    <tr>\n",
       "      <th>0</th>\n",
       "      <td>100</td>\n",
       "      <td>21.790655</td>\n",
       "    </tr>\n",
       "    <tr>\n",
       "      <th>1</th>\n",
       "      <td>100</td>\n",
       "      <td>21.725900</td>\n",
       "    </tr>\n",
       "  </tbody>\n",
       "</table>\n",
       "</div>"
      ],
      "text/plain": [
       "   temperatura   densidad\n",
       "0          100  21.790655\n",
       "1          100  21.725900"
      ]
     },
     "execution_count": 18,
     "metadata": {},
     "output_type": "execute_result"
    }
   ],
   "source": [
    "fluidos.head(2)"
   ]
  },
  {
   "cell_type": "code",
   "execution_count": 16,
   "metadata": {},
   "outputs": [
    {
     "data": {
      "text/html": [
       "<div>\n",
       "<style scoped>\n",
       "    .dataframe tbody tr th:only-of-type {\n",
       "        vertical-align: middle;\n",
       "    }\n",
       "\n",
       "    .dataframe tbody tr th {\n",
       "        vertical-align: top;\n",
       "    }\n",
       "\n",
       "    .dataframe thead th {\n",
       "        text-align: right;\n",
       "    }\n",
       "</style>\n",
       "<table border=\"1\" class=\"dataframe\">\n",
       "  <thead>\n",
       "    <tr style=\"text-align: right;\">\n",
       "      <th></th>\n",
       "      <th>count</th>\n",
       "      <th>mean</th>\n",
       "      <th>std</th>\n",
       "      <th>min</th>\n",
       "      <th>25%</th>\n",
       "      <th>50%</th>\n",
       "      <th>75%</th>\n",
       "      <th>max</th>\n",
       "    </tr>\n",
       "  </thead>\n",
       "  <tbody>\n",
       "    <tr>\n",
       "      <th>temperatura</th>\n",
       "      <td>400.0</td>\n",
       "      <td>137.500000</td>\n",
       "      <td>27.985854</td>\n",
       "      <td>100.000000</td>\n",
       "      <td>118.75000</td>\n",
       "      <td>137.500000</td>\n",
       "      <td>156.250000</td>\n",
       "      <td>175.000000</td>\n",
       "    </tr>\n",
       "    <tr>\n",
       "      <th>densidad</th>\n",
       "      <td>400.0</td>\n",
       "      <td>21.733028</td>\n",
       "      <td>0.169214</td>\n",
       "      <td>21.323342</td>\n",
       "      <td>21.61463</td>\n",
       "      <td>21.742521</td>\n",
       "      <td>21.843457</td>\n",
       "      <td>22.170432</td>\n",
       "    </tr>\n",
       "  </tbody>\n",
       "</table>\n",
       "</div>"
      ],
      "text/plain": [
       "             count        mean        std         min        25%         50%  \\\n",
       "temperatura  400.0  137.500000  27.985854  100.000000  118.75000  137.500000   \n",
       "densidad     400.0   21.733028   0.169214   21.323342   21.61463   21.742521   \n",
       "\n",
       "                    75%         max  \n",
       "temperatura  156.250000  175.000000  \n",
       "densidad      21.843457   22.170432  "
      ]
     },
     "execution_count": 16,
     "metadata": {},
     "output_type": "execute_result"
    }
   ],
   "source": [
    "fluidos.describe().T"
   ]
  },
  {
   "cell_type": "code",
   "execution_count": 17,
   "metadata": {},
   "outputs": [
    {
     "name": "stdout",
     "output_type": "stream",
     "text": [
      "<class 'pandas.core.frame.DataFrame'>\n",
      "RangeIndex: 400 entries, 0 to 399\n",
      "Data columns (total 2 columns):\n",
      " #   Column       Non-Null Count  Dtype  \n",
      "---  ------       --------------  -----  \n",
      " 0   temperatura  400 non-null    int64  \n",
      " 1   densidad     400 non-null    float64\n",
      "dtypes: float64(1), int64(1)\n",
      "memory usage: 6.4 KB\n"
     ]
    }
   ],
   "source": [
    "fluidos.info()"
   ]
  },
  {
   "cell_type": "code",
   "execution_count": 20,
   "metadata": {},
   "outputs": [
    {
     "data": {
      "text/plain": [
       "np.int64(0)"
      ]
     },
     "execution_count": 20,
     "metadata": {},
     "output_type": "execute_result"
    }
   ],
   "source": [
    "fluidos.duplicated().sum()"
   ]
  },
  {
   "cell_type": "code",
   "execution_count": null,
   "metadata": {},
   "outputs": [],
   "source": [
    "class Asunciones:\n",
    "    def __init__(self, dataframe, columna_numerica):\n",
    "\n",
    "        self.dataframe = dataframe\n",
    "        self.columna_numerica = columna_numerica\n",
    "        \n",
    "    \n",
    "\n",
    "    def identificar_normalidad_analitica(self, metodo='shapiro', alpha=0.05, verbose=True):\n",
    "        \"\"\"\n",
    "        Evalúa la normalidad de una columna de datos de un DataFrame utilizando la prueba de Shapiro-Wilk o Kolmogorov-Smirnov.\n",
    "\n",
    "        Params:\n",
    "            metodo (str): El método a utilizar para la prueba de normalidad ('shapiro' o 'kolmogorov').\n",
    "            alpha (float): Nivel de significancia para la prueba.\n",
    "            verbose (bool): Si se establece en True, imprime el resultado de la prueba. Si es False, Returns el resultado.\n",
    "\n",
    "        Returns:\n",
    "            bool: True si los datos siguen una distribución normal, False de lo contrario.\n",
    "        \"\"\"\n",
    "\n",
    "        if metodo == 'shapiro':\n",
    "            _, p_value = stats.shapiro(self.dataframe[self.columna_numerica])\n",
    "            resultado = p_value > alpha\n",
    "            if resultado == True:\n",
    "                mensaje = f\"los datos siguen una distribución normal según el test de Shapiro-Wilk.\"\n",
    "            else:\n",
    "                mensaje = f\"los datos no siguen una distribución normal según el test de Shapiro-Wilk.\"\n",
    "        \n",
    "        elif metodo == 'kolmogorov':\n",
    "            normalizale = self.dataframe[self.columna_numerica]\n",
    "            loc, scale = stats.norm.fit(normalizale) # Normalizamos para que devuelva un pvalue como dios manda\n",
    "            \n",
    "            _, p_value = stats.kstest(normalizale, 'norm',args=(loc,scale))\n",
    "            resultado = p_value > alpha\n",
    "            if resultado:\n",
    "                mensaje = f\"los datos siguen una distribución normal según el test de Kolmogorov-Smirnov.\"  \n",
    "            else:\n",
    "                 mensaje = f\"los datos no siguen una distribución normal según el test de Kolmogorov-Smirnov.\"\n",
    "        else:\n",
    "            raise ValueError(\"Método no válido. Por favor, elige 'shapiro' o 'kolmogorov'.\")\n",
    "\n",
    "        if verbose:\n",
    "            print(f\"Para la columna {self.columna_numerica}, {mensaje}\")\n",
    "        else:\n",
    "            return resultado\n",
    "\n",
    "        \n",
    "    def identificar_homogeneidad (self,  columna_categorica):\n",
    "        \n",
    "        \"\"\"\n",
    "        Evalúa la homogeneidad de las varianzas entre grupos para una métrica específica en un DataFrame dado.\n",
    "\n",
    "        Params:\n",
    "        - columna (str): El nombre de la columna que se utilizará para dividir los datos en grupos.\n",
    "        - columna_categorica (str): El nombre de la columna que se utilizará para evaluar la homogeneidad de las varianzas.\n",
    "\n",
    "        Returns:\n",
    "        No Returns nada directamente, pero imprime en la consola si las varianzas son homogéneas o no entre los grupos.\n",
    "        Se utiliza la prueba de Levene para evaluar la homogeneidad de las varianzas. Si el valor p resultante es mayor que 0.05,\n",
    "        se concluye que las varianzas son homogéneas; de lo contrario, se concluye que las varianzas no son homogéneas.\n",
    "        \"\"\"\n",
    "        \n",
    "        # lo primero que tenemos que hacer es crear tantos conjuntos de datos para cada una de las categorías que tenemos, Control Campaign y Test Campaign\n",
    "        valores_evaluar = []\n",
    "        \n",
    "        for valor in self.dataframe[columna_categorica].unique():\n",
    "            valores_evaluar.append(self.dataframe[self.dataframe[columna_categorica]== valor][self.columna_numerica])\n",
    "\n",
    "        statistic, p_value = stats.levene(*valores_evaluar)\n",
    "        if p_value > 0.05:\n",
    "            print(f\"En la variable {columna_categorica} las varianzas son homogéneas entre grupos.\")\n",
    "        else:\n",
    "            print(f\"En la variable {columna_categorica} las varianzas NO son homogéneas entre grupos.\")\n"
   ]
  },
  {
   "cell_type": "markdown",
   "metadata": {},
   "source": [
    "1. ¿Se verifican los supuestos del modelo de análisis de la varianza?\n"
   ]
  },
  {
   "cell_type": "code",
   "execution_count": 47,
   "metadata": {},
   "outputs": [
    {
     "name": "stdout",
     "output_type": "stream",
     "text": [
      "ShapiroResult(statistic=np.float64(0.9912069518918302), pvalue=np.float64(0.4793383678320556))\n",
      "ShapiroResult(statistic=np.float64(0.9681970572461548), pvalue=np.float64(0.19529544753589662))\n",
      "ShapiroResult(statistic=np.float64(0.9493992809043919), pvalue=np.float64(0.032232156523145025))\n",
      "ShapiroResult(statistic=np.float64(0.9827436667928682), pvalue=np.float64(0.6719488345577499))\n"
     ]
    }
   ],
   "source": [
    "#antes de analizar los supuestos de la homocedasticidad, hay que comprobar la normalidad para saber que método usar para comprobar la homocedasticidad\n",
    "#Uso shapiro aunque sé que debería usar la otra por el tamaño de la muestra\n",
    "\n",
    "print(stats.shapiro(montaje[\"minutos\"]))\n",
    "print(stats.shapiro(montaje[montaje[\"metodo\"] == \"C\"][\"minutos\"]))  #filtro por el grupo y me quedo solo con la métrica\n",
    "print(stats.shapiro(montaje[montaje[\"metodo\"] == \"B\"][\"minutos\"]))  #filtro por el grupo y me quedo solo con la métrica\n",
    "print(stats.shapiro(montaje[montaje[\"metodo\"] == \"A\"][\"minutos\"]))  #filtro por el grupo y me quedo solo con la métrica\n"
   ]
  },
  {
   "cell_type": "code",
   "execution_count": 60,
   "metadata": {},
   "outputs": [
    {
     "name": "stdout",
     "output_type": "stream",
     "text": [
      "los minutos siguen una distribución normal según el test de Kolmogorov-Smirnov.True\n"
     ]
    }
   ],
   "source": [
    "normalizale = montaje[\"minutos\"]\n",
    "loc, scale = stats.norm.fit(normalizale) # Normalizamos para que devuelva un p-value \n",
    "_, p_value = stats.kstest(normalizale, 'norm',args=(loc,scale))\n",
    "resultado = p_value > 0.05\n",
    "print(f\"los minutos siguen una distribución normal según el test de Kolmogorov-Smirnov.{resultado}\")"
   ]
  },
  {
   "cell_type": "code",
   "execution_count": null,
   "metadata": {},
   "outputs": [
    {
     "data": {
      "text/plain": [
       "<Axes: xlabel='minutos', ylabel='Count'>"
      ]
     },
     "metadata": {},
     "output_type": "display_data"
    },
    {
     "data": {
      "image/png": "[encoded data removed]",
      "text/plain": [
       "<Figure size 640x480 with 1 Axes>"
      ]
     },
     "metadata": {},
     "output_type": "display_data"
    }
   ],
   "source": [
    "sns.histplot(x=\"minutos\", data= montaje)"
   ]
  },
  {
   "cell_type": "markdown",
   "metadata": {},
   "source": [
    "*Analizado de forma conjunta:*  \n",
    "  \n",
    "\n",
    "Dado que el p-value > 0,05 , no hay evidencia suficiente para rechazar la hipótesis nula. Esto quiere decir (dado que nuestra hipótesis nula es que la distribución sea normal) que la distribución de los minutos es normal. Ahora que lo sabemos, procededmos a comprobar la homocedasticidad con el test de barlett.\n",
    "\n",
    "\n",
    "*Individual:*  \n",
    "\n",
    "C y A:  \n",
    "  \n",
    "Dado que el p-value > 0,05 , no hay evidencia suficiente para rechazar la hipótesis nula. Esto quiere decir (dado que nuestra hipótesis nula es que la distribución sea normal) que la distribución de los minutos es normal para los métodos C y A. Ahora que lo sabemos, procededmos a comprobar la homocedasticidad con el test de bartlett.\n"
   ]
  },
  {
   "cell_type": "code",
   "execution_count": 61,
   "metadata": {},
   "outputs": [
    {
     "name": "stdout",
     "output_type": "stream",
     "text": [
      "BartlettResult(statistic=np.float64(0.7587362059281331), pvalue=np.float64(0.6842936757694211))\n"
     ]
    }
   ],
   "source": [
    "def comprobar_homocedasticidad(df, columna_grupos, columnas_metrica):\n",
    "    unicos=df[columna_grupos].unique()   #lista de grupos\n",
    "    for grupo in unicos:\n",
    "        df_metrica= df[df[columna_grupos]== grupo][columnas_metrica]\n",
    "        globals()[grupo] = df_metrica                                   #globals permite poner un parametro de una funcion en la variable a definir (de normal no se puede)\n",
    "                                                                        #basicamente el globals lo empaqueta en un especie de diccionario en la que lo unico que se almacena en unicos (lista_grupo) son los nombres A B y C\n",
    "\n",
    "\n",
    "    print(stats.bartlett(*[globals()[var] for var in unicos]))                  #al desempaquetar, de la A obtenemos sus estadisticos el * es para quitar la lista\n",
    "\n",
    "comprobar_homocedasticidad(montaje, \"metodo\", \"minutos\")"
   ]
  },
  {
   "cell_type": "code",
   "execution_count": null,
   "metadata": {},
   "outputs": [
    {
     "data": {
      "text/plain": [
       "<Axes: xlabel='minutos', ylabel='Count'>"
      ]
     },
     "metadata": {},
     "output_type": "display_data"
    },
    {
     "data": {
      "image/png": "[encoded data removed]",
      "text/plain": [
       "<Figure size 640x480 with 1 Axes>"
      ]
     },
     "metadata": {},
     "output_type": "display_data"
    }
   ],
   "source": [
    "sns.histplot(x=\"minutos\", data= montaje)"
   ]
  },
  {
   "cell_type": "code",
   "execution_count": 62,
   "metadata": {},
   "outputs": [
    {
     "data": {
      "text/plain": [
       "BartlettResult(statistic=np.float64(0.7587362059281331), pvalue=np.float64(0.6842936757694211))"
      ]
     },
     "execution_count": 62,
     "metadata": {},
     "output_type": "execute_result"
    }
   ],
   "source": [
    "stats.bartlett(montaje[montaje[\"metodo\"]== \"C\"][\"minutos\"], montaje[montaje[\"metodo\"]== \"A\"][\"minutos\"], montaje[montaje[\"metodo\"]== \"B\"][\"minutos\"])"
   ]
  },
  {
   "cell_type": "markdown",
   "metadata": {},
   "source": [
    "Dado que el p-value > 0,05 , no hay evidencia suficiente para rechazar la hipótesis nula. Esto quiere decir que la distribución de los minutos es homocedástica."
   ]
  },
  {
   "cell_type": "markdown",
   "metadata": {},
   "source": [
    "\n",
    "2. ¿Existe evidencia de que el método influye en el tiempo medio de elaboración del producto?\n"
   ]
  },
  {
   "cell_type": "code",
   "execution_count": null,
   "metadata": {},
   "outputs": [
    {
     "name": "stdout",
     "output_type": "stream",
     "text": [
      "F_onewayResult(statistic=np.float64(4.275128289148849), pvalue=np.float64(0.015679251126397998))\n"
     ]
    }
   ],
   "source": [
    "#Aqui supongo que tengo que hacer un anova ya que tengo que hacer un contraste de hipotesis de 3 \n",
    "\n",
    "def calcular_anova(df, columna_grupos, columnas_metrica):\n",
    "    unicos=df[columna_grupos].unique()   #lista de grupos\n",
    "    for grupo in unicos:\n",
    "        df_metrica= df[df[columna_grupos]== grupo][columnas_metrica]\n",
    "        globals()[grupo] = df_metrica                                  \n",
    "\n",
    "    print(stats.f_oneway(*[globals()[var] for var in unicos]))                 \n",
    "\n",
    "calcular_anova(montaje, \"metodo\", \"minutos\")\n"
   ]
  },
  {
   "cell_type": "markdown",
   "metadata": {},
   "source": [
    "Dado que el p-value es < 0,05 , no hay evidencia suficiente para aceptar la hipótesis nula (Nuestra hipótesis nula es que la diferencia en el tiempo medio de los tres métodods era = 0). Por ello podemos decir que si que existen diferencias en los tiempos de producción medios en los productos dependiendo del método de producción."
   ]
  },
  {
   "cell_type": "markdown",
   "metadata": {},
   "source": [
    "\n",
    "3. La empresa valora que el tiempo de fabricación sea el menor posible. ¿Qué método cree que ofrece mejores resultados?"
   ]
  },
  {
   "cell_type": "code",
   "execution_count": 30,
   "metadata": {},
   "outputs": [
    {
     "name": "stdout",
     "output_type": "stream",
     "text": [
      "TtestResult(statistic=np.float64(1.9822369728858387), pvalue=np.float64(0.05025304295700147), df=np.float64(98.0))\n",
      "TtestResult(statistic=np.float64(2.7945789450116494), pvalue=np.float64(0.006252328381189883), df=np.float64(98.0))\n",
      "TtestResult(statistic=np.float64(-0.8500751462606051), pvalue=np.float64(0.3973553695139316), df=np.float64(98.0))\n"
     ]
    }
   ],
   "source": [
    "#ahora vamos a utilizar una t- student porque vamos a comprara métodos de 2 en 2.\n",
    "print(stats.ttest_ind(montaje[montaje[\"metodo\"]== \"C\"][\"minutos\"], montaje[montaje[\"metodo\"]== \"A\"][\"minutos\"]))       \n",
    "print(stats.ttest_ind(montaje[montaje[\"metodo\"]== \"C\"][\"minutos\"], montaje[montaje[\"metodo\"]== \"B\"][\"minutos\"])) \n",
    "print(stats.ttest_ind(montaje[montaje[\"metodo\"]== \"B\"][\"minutos\"], montaje[montaje[\"metodo\"]== \"A\"][\"minutos\"]))"
   ]
  },
  {
   "cell_type": "markdown",
   "metadata": {},
   "source": [
    "Tanto en la hipotesis nula del primer contraste (C y A) como en el segundo (C y B) el p-value es < a 0,05 lo que significa que no hay evidencia suficiente para aceptar la Ho, es decir, que si que hay diferencias en los tiempos de prodcucción unitarios entre esos métodos. Mientras que en el caso restante(B y A) no hay evidencia suficiente para poder rechazar la Ho lo que significa que no podemos afirmar que haya diferencias en los tiempos medios de producción entre esos dos métodos. Gracias al gráfico, sacamos que el C es diferente pero no porque tarde menos sino porque tarda más lo que nos deja solo con la opción A o la opción B pero una vez más dado que el método B tiene valores negativos debido a paradas de producción, nos quedaríamos con que el método A sería el más optimo en cuanto al tiempo unitario medio de producción."
   ]
  },
  {
   "cell_type": "code",
   "execution_count": null,
   "metadata": {},
   "outputs": [
    {
     "data": {
      "text/plain": [
       "<Axes: xlabel='metodo', ylabel='minutos'>"
      ]
     },
     "execution_count": 63,
     "metadata": {},
     "output_type": "execute_result"
    },
    {
     "data": {
      "image/png": "[encoded data removed]",
      "text/plain": [
       "<Figure size 640x480 with 1 Axes>"
      ]
     },
     "metadata": {},
     "output_type": "display_data"
    }
   ],
   "source": [
    "sns.barplot(x=\"metodo\", y= \"minutos\", data= montaje)"
   ]
  },
  {
   "cell_type": "markdown",
   "metadata": {},
   "source": [
    "#### Ejercicio 2: Densidad de Fluidos \n",
    "\n",
    "\n",
    "La convección es un mecanismo fundamental de transferencia de calor en fluidos, que ocurre debido a las variaciones en la densidad provocadas por diferencias de temperatura. Este fenómeno se manifiesta cuando las porciones del fluido que se calientan, al volverse menos densas, ascienden hacia regiones de menor temperatura, mientras que las porciones más frías, al ser más densas, descienden hacia las zonas donde la temperatura es más alta. Este movimiento continuo da lugar a las llamadas corrientes de convección, las cuales desempeñan un papel crucial en la distribución homogénea de la temperatura dentro del fluido, promoviendo un equilibrio térmico.\n",
    "\n",
    "En este contexto, se ha diseñado y ejecutado un experimento con el propósito de investigar cómo se ve afectada la densidad de un fluido cuando se incrementa la temperatura en una región específica del sistema; por tanto se asegura la independencia y aleatoriedad del mismo. El objetivo del experimento es comprender en detalle las modificaciones en la densidad que resultan de este aumento térmico y cómo estas afectan el comportamiento global del fluido.\n",
    "\n",
    "\n",
    "1. Analiza las suposiciones del modelo: ¿Se cumplen las condiciones de homocedasticidad, independencia y normalidad?\n",
    "2. ¿Tiene la temperatura un impacto notable en la densidad del fluido?\n",
    "3. ¿Es posible concluir que las temperaturas de 100 y 125 provocan, en promedio, una menor densidad en el fluido comparadas con las temperaturas de 150 y 175?"
   ]
  },
  {
   "cell_type": "code",
   "execution_count": 2,
   "metadata": {},
   "outputs": [],
   "source": [
    "# Tu codigo aqui"
   ]
  }
 ],
 "metadata": {
  "kernelspec": {
   "display_name": "Python 3",
   "language": "python",
   "name": "python3"
  },
  "language_info": {
   "codemirror_mode": {
    "name": "ipython",
    "version": 3
   },
   "file_extension": ".py",
   "mimetype": "text/x-python",
   "name": "python",
   "nbconvert_exporter": "python",
   "pygments_lexer": "ipython3",
   "version": "3.11.9"
  }
 },
 "nbformat": 4,
 "nbformat_minor": 2
}
